{
  "nbformat": 4,
  "nbformat_minor": 0,
  "metadata": {
    "accelerator": "GPU",
    "colab": {
      "name": "RNN Mnist.ipynb",
      "provenance": [],
      "authorship_tag": "ABX9TyM2TtqML7HmsPS4HRmJAMiQ",
      "include_colab_link": true
    },
    "kernelspec": {
      "display_name": "Python 3",
      "name": "python3"
    }
  },
  "cells": [
    {
      "cell_type": "markdown",
      "metadata": {
        "id": "view-in-github",
        "colab_type": "text"
      },
      "source": [
        "<a href=\"https://colab.research.google.com/github/AmazingGrace-D/RNN-MNIST/blob/main/RNN_Mnist.ipynb\" target=\"_parent\"><img src=\"https://colab.research.google.com/assets/colab-badge.svg\" alt=\"Open In Colab\"/></a>"
      ]
    },
    {
      "cell_type": "code",
      "metadata": {
        "id": "Lpr5iXZ5GOT1"
      },
      "source": [
        "import pandas as pd\r\n",
        "import numpy as np\r\n",
        "import matplotlib.pyplot as plt\r\n",
        "\r\n",
        "from tensorflow.keras.layers import Input, Dense, LSTM\r\n",
        "from tensorflow.keras.models import Model\r\n",
        "from tensorflow.keras.optimizers import Adam, SGD\r\n",
        "import tensorflow as tf"
      ],
      "execution_count": 1,
      "outputs": []
    },
    {
      "cell_type": "code",
      "metadata": {
        "colab": {
          "base_uri": "https://localhost:8080/"
        },
        "id": "E3ZXj2tGIZrv",
        "outputId": "b846607b-9e71-4198-c5df-34589bb40ea1"
      },
      "source": [
        "mnist = tf.keras.datasets.mnist\r\n",
        "\r\n",
        "(x_train, y_train), (x_test, y_test) = mnist.load_data()\r\n",
        "\r\n",
        "print(\"x_train.shape,\", x_train.shape)"
      ],
      "execution_count": 2,
      "outputs": [
        {
          "output_type": "stream",
          "text": [
            "Downloading data from https://storage.googleapis.com/tensorflow/tf-keras-datasets/mnist.npz\n",
            "11493376/11490434 [==============================] - 0s 0us/step\n",
            "x_train.shape, (60000, 28, 28)\n"
          ],
          "name": "stdout"
        }
      ]
    },
    {
      "cell_type": "code",
      "metadata": {
        "colab": {
          "base_uri": "https://localhost:8080/",
          "height": 265
        },
        "id": "meH1c1BNKh6j",
        "outputId": "4f9d19f9-bc6a-4710-cdd8-432e80ed6b06"
      },
      "source": [
        "for i in range(10):\r\n",
        "  plt.imshow(x_train[i].reshape(28, 28), cmap = 'gray')\r\n",
        "  break"
      ],
      "execution_count": 3,
      "outputs": [
        {
          "output_type": "display_data",
          "data": {
            "image/png": "[encoded data removed]",
            "text/plain": [
              "<Figure size 432x288 with 1 Axes>"
            ]
          },
          "metadata": {
            "tags": [],
            "needs_background": "light"
          }
        }
      ]
    },
    {
      "cell_type": "code",
      "metadata": {
        "id": "tgmGQIz-Kdbz"
      },
      "source": [
        "x_train, x_test = x_train / 255.0, x_test / 255.0"
      ],
      "execution_count": 4,
      "outputs": []
    },
    {
      "cell_type": "code",
      "metadata": {
        "colab": {
          "base_uri": "https://localhost:8080/",
          "height": 265
        },
        "id": "8-5FIl_rLMC2",
        "outputId": "eb8f7456-d2a2-413d-c27b-0ac823d7eade"
      },
      "source": [
        "for i in range(10):\r\n",
        "  plt.imshow(x_train[i].reshape(28, 28), cmap = 'gray')\r\n",
        "  break"
      ],
      "execution_count": 5,
      "outputs": [
        {
          "output_type": "display_data",
          "data": {
            "image/png": "[encoded data removed]",
            "text/plain": [
              "<Figure size 432x288 with 1 Axes>"
            ]
          },
          "metadata": {
            "tags": [],
            "needs_background": "light"
          }
        }
      ]
    },
    {
      "cell_type": "code",
      "metadata": {
        "colab": {
          "base_uri": "https://localhost:8080/"
        },
        "id": "dZbaPrwVLePG",
        "outputId": "6793bb2c-c8dc-4d11-a1fc-028569c9b845"
      },
      "source": [
        "x_train[0].shape"
      ],
      "execution_count": 6,
      "outputs": [
        {
          "output_type": "execute_result",
          "data": {
            "text/plain": [
              "(28, 28)"
            ]
          },
          "metadata": {
            "tags": []
          },
          "execution_count": 6
        }
      ]
    },
    {
      "cell_type": "code",
      "metadata": {
        "colab": {
          "base_uri": "https://localhost:8080/"
        },
        "id": "8S3L4N24LOLi",
        "outputId": "80e4f569-c5ea-436f-8277-9e7c41110893"
      },
      "source": [
        "# Model \r\n",
        "\r\n",
        "i = Input(shape=(x_train[0].shape))\r\n",
        "x = LSTM(120)(i)\r\n",
        "x = Dense(10, activation = 'softmax')(x)\r\n",
        "\r\n",
        "model = Model(i, x)\r\n",
        "\r\n",
        "model.compile(\r\n",
        "    optimizer = 'adam',\r\n",
        "    loss = 'sparse_categorical_crossentropy',\r\n",
        "    metrics = ['accuracy']\r\n",
        ")\r\n",
        "\r\n",
        "r = model.fit(x_train, y_train, validation_data = (x_test, y_test), \r\n",
        "              epochs = 10)"
      ],
      "execution_count": 7,
      "outputs": [
        {
          "output_type": "stream",
          "text": [
            "Epoch 1/10\n",
            "1875/1875 [==============================] - 16s 4ms/step - loss: 0.6454 - accuracy: 0.7835 - val_loss: 0.1821 - val_accuracy: 0.9459\n",
            "Epoch 2/10\n",
            "1875/1875 [==============================] - 8s 4ms/step - loss: 0.1206 - accuracy: 0.9626 - val_loss: 0.0825 - val_accuracy: 0.9743\n",
            "Epoch 3/10\n",
            "1875/1875 [==============================] - 8s 4ms/step - loss: 0.0776 - accuracy: 0.9773 - val_loss: 0.0855 - val_accuracy: 0.9736\n",
            "Epoch 4/10\n",
            "1875/1875 [==============================] - 8s 4ms/step - loss: 0.0579 - accuracy: 0.9830 - val_loss: 0.0648 - val_accuracy: 0.9804\n",
            "Epoch 5/10\n",
            "1875/1875 [==============================] - 8s 4ms/step - loss: 0.0470 - accuracy: 0.9864 - val_loss: 0.0576 - val_accuracy: 0.9816\n",
            "Epoch 6/10\n",
            "1875/1875 [==============================] - 8s 4ms/step - loss: 0.0375 - accuracy: 0.9884 - val_loss: 0.0541 - val_accuracy: 0.9844\n",
            "Epoch 7/10\n",
            "1875/1875 [==============================] - 8s 4ms/step - loss: 0.0302 - accuracy: 0.9909 - val_loss: 0.0536 - val_accuracy: 0.9834\n",
            "Epoch 8/10\n",
            "1875/1875 [==============================] - 8s 4ms/step - loss: 0.0307 - accuracy: 0.9910 - val_loss: 0.0457 - val_accuracy: 0.9875\n",
            "Epoch 9/10\n",
            "1875/1875 [==============================] - 8s 4ms/step - loss: 0.0260 - accuracy: 0.9919 - val_loss: 0.0432 - val_accuracy: 0.9871\n",
            "Epoch 10/10\n",
            "1875/1875 [==============================] - 8s 4ms/step - loss: 0.0208 - accuracy: 0.9937 - val_loss: 0.0470 - val_accuracy: 0.9853\n"
          ],
          "name": "stdout"
        }
      ]
    },
    {
      "cell_type": "code",
      "metadata": {
        "colab": {
          "base_uri": "https://localhost:8080/",
          "height": 283
        },
        "id": "hSJhY_aCPRmz",
        "outputId": "f78cbca9-6e9c-4268-835f-caa8110c23fa"
      },
      "source": [
        "plt.plot(r.history['loss'], label = 'loss')\r\n",
        "plt.plot(r.history['val_loss'], label = 'val_loss')\r\n",
        "plt.legend()"
      ],
      "execution_count": 8,
      "outputs": [
        {
          "output_type": "execute_result",
          "data": {
            "text/plain": [
              "<matplotlib.legend.Legend at 0x7f147e2ae3c8>"
            ]
          },
          "metadata": {
            "tags": []
          },
          "execution_count": 8
        },
        {
          "output_type": "display_data",
          "data": {
            "image/png": "[encoded data removed]",
            "text/plain": [
              "<Figure size 432x288 with 1 Axes>"
            ]
          },
          "metadata": {
            "tags": [],
            "needs_background": "light"
          }
        }
      ]
    },
    {
      "cell_type": "code",
      "metadata": {
        "colab": {
          "base_uri": "https://localhost:8080/",
          "height": 283
        },
        "id": "tlVuCx1cPkkR",
        "outputId": "86f41ed2-ab78-4159-8c5e-546b07a04c36"
      },
      "source": [
        "plt.plot(r.history['accuracy'], label = 'acc')\r\n",
        "plt.plot(r.history['val_accuracy'], label = 'val_acc')\r\n",
        "plt.legend()"
      ],
      "execution_count": 9,
      "outputs": [
        {
          "output_type": "execute_result",
          "data": {
            "text/plain": [
              "<matplotlib.legend.Legend at 0x7f147e5a4ac8>"
            ]
          },
          "metadata": {
            "tags": []
          },
          "execution_count": 9
        },
        {
          "output_type": "display_data",
          "data": {
            "image/png": "[encoded data removed]",
            "text/plain": [
              "<Figure size 432x288 with 1 Axes>"
            ]
          },
          "metadata": {
            "tags": [],
            "needs_background": "light"
          }
        }
      ]
    },
    {
      "cell_type": "code",
      "metadata": {
        "colab": {
          "base_uri": "https://localhost:8080/",
          "height": 500
        },
        "id": "d820bdAraKUh",
        "outputId": "216b578d-dff4-4bac-ce0a-ef574ce11dbc"
      },
      "source": [
        "from sklearn.metrics import confusion_matrix\r\n",
        "import itertools\r\n",
        "\r\n",
        "def plot_confusion_matrix(cm, classes, normalize=False, title='Confusion matrix',\r\n",
        "                          cmap=plt.cm.Blues):\r\n",
        "  \"\"\"\r\n",
        "  This function prints and plots the confusion matrix. \r\n",
        "  Normalisation can be applied by setting normalize=True\r\n",
        "  \"\"\"\r\n",
        "\r\n",
        "  if normalize:\r\n",
        "    cm = cm.astype('float') / cm.sum(axis=1)[:, np.newaxis]\r\n",
        "    print(\"Normalised confusion matrix\")\r\n",
        "  else:\r\n",
        "    print(\"Confusion matrix, without normalisation\")\r\n",
        "\r\n",
        "  print(cm)\r\n",
        "\r\n",
        "  plt.imshow(cm, interpolation='nearest', cmap=cmap)\r\n",
        "  plt.title(title)\r\n",
        "  plt.colorbar()\r\n",
        "  tick_marks = np.arange(len(classes))\r\n",
        "  plt.xticks(tick_marks, classes, rotation=45)\r\n",
        "  plt.yticks(tick_marks, classes)\r\n",
        "  \r\n",
        "  fmt = ',2f' if normalize else 'd'\r\n",
        "  thresh = cm.max() /2.\r\n",
        "  for i, j in itertools.product(range(cm.shape[0]), range(cm.shape[1])):\r\n",
        "    plt.text(j, i, format(cm[i, j], fmt),\r\n",
        "             horizontalalignment='center',\r\n",
        "             color='white' if cm[i, j] > thresh else 'black')\r\n",
        "    \r\n",
        "  plt.tight_layout\r\n",
        "  plt.ylabel('True label')\r\n",
        "  plt.xlabel('Predicted label')\r\n",
        "  plt.show()\r\n",
        "\r\n",
        "p_test = model.predict(x_test).argmax(axis = 1)\r\n",
        "cm = confusion_matrix(y_test, p_test)\r\n",
        "plot_confusion_matrix(cm, list(range(10)))"
      ],
      "execution_count": 15,
      "outputs": [
        {
          "output_type": "stream",
          "text": [
            "Confusion matrix, without normalisation\n",
            "[[ 971    0    3    0    0    0    2    1    2    1]\n",
            " [   1 1130    1    1    0    0    1    0    1    0]\n",
            " [   0    1 1023    3    1    0    0    1    3    0]\n",
            " [   0    1    6  993    0    6    0    2    2    0]\n",
            " [   0    0    0    0  953    0    5    1    3   20]\n",
            " [   2    0    0    4    0  881    3    1    1    0]\n",
            " [   1    2    1    0    5    1  942    0    5    1]\n",
            " [   0    3    6    1    2    3    0 1006    0    7]\n",
            " [   0    0    1    3    0    4    0    3  959    4]\n",
            " [   1    0    0    1    1    6    0    2    3  995]]\n"
          ],
          "name": "stdout"
        },
        {
          "output_type": "display_data",
          "data": {
            "image/png": "[encoded data removed]",
            "text/plain": [
              "<Figure size 432x288 with 2 Axes>"
            ]
          },
          "metadata": {
            "tags": [],
            "needs_background": "light"
          }
        }
      ]
    },
    {
      "cell_type": "code",
      "metadata": {
        "colab": {
          "base_uri": "https://localhost:8080/",
          "height": 281
        },
        "id": "xoMZesF5jahq",
        "outputId": "fb33205b-ee76-4869-b4cc-c8de0800bf20"
      },
      "source": [
        "misclassified_idx = np.where(p_test != y_test)[0]\r\n",
        "i = np.random.choice(misclassified_idx)\r\n",
        "plt.imshow(x_test[i], cmap='gray')\r\n",
        "plt.title(\"True label: %s Predicted: %s\" % (y_test[i], p_test[i]));"
      ],
      "execution_count": 16,
      "outputs": [
        {
          "output_type": "display_data",
          "data": {
            "image/png": "[encoded data removed]",
            "text/plain": [
              "<Figure size 432x288 with 1 Axes>"
            ]
          },
          "metadata": {
            "tags": [],
            "needs_background": "light"
          }
        }
      ]
    },
    {
      "cell_type": "code",
      "metadata": {
        "id": "NfH4xmOHllnc"
      },
      "source": [
        ""
      ],
      "execution_count": null,
      "outputs": []
    }
  ]
}